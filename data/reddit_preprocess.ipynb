{
 "cells": [
  {
   "cell_type": "code",
   "execution_count": 1,
   "id": "057037c5",
   "metadata": {},
   "outputs": [
    {
     "name": "stderr",
     "output_type": "stream",
     "text": [
      "[nltk_data] Downloading package punkt to\n",
      "[nltk_data]     C:\\Users\\abedk\\AppData\\Roaming\\nltk_data...\n",
      "[nltk_data]   Package punkt is already up-to-date!\n",
      "[nltk_data] Downloading package stopwords to\n",
      "[nltk_data]     C:\\Users\\abedk\\AppData\\Roaming\\nltk_data...\n",
      "[nltk_data]   Package stopwords is already up-to-date!\n",
      "[nltk_data] Downloading package wordnet to\n",
      "[nltk_data]     C:\\Users\\abedk\\AppData\\Roaming\\nltk_data...\n",
      "[nltk_data]   Package wordnet is already up-to-date!\n"
     ]
    },
    {
     "data": {
      "text/plain": [
       "True"
      ]
     },
     "execution_count": 1,
     "metadata": {},
     "output_type": "execute_result"
    }
   ],
   "source": [
    "import pandas as pd\n",
    "# NLTK Lib\n",
    "import nltk\n",
    "nltk.download('punkt')\n",
    "nltk.download('stopwords')\n",
    "nltk.download('wordnet')"
   ]
  },
  {
   "cell_type": "code",
   "execution_count": 2,
   "id": "e9d34109",
   "metadata": {
    "scrolled": true
   },
   "outputs": [
    {
     "data": {
      "text/html": [
       "<div>\n",
       "<style scoped>\n",
       "    .dataframe tbody tr th:only-of-type {\n",
       "        vertical-align: middle;\n",
       "    }\n",
       "\n",
       "    .dataframe tbody tr th {\n",
       "        vertical-align: top;\n",
       "    }\n",
       "\n",
       "    .dataframe thead th {\n",
       "        text-align: right;\n",
       "    }\n",
       "</style>\n",
       "<table border=\"1\" class=\"dataframe\">\n",
       "  <thead>\n",
       "    <tr style=\"text-align: right;\">\n",
       "      <th></th>\n",
       "      <th>text</th>\n",
       "      <th>label</th>\n",
       "    </tr>\n",
       "  </thead>\n",
       "  <tbody>\n",
       "    <tr>\n",
       "      <th>0</th>\n",
       "      <td>I recently went through a breakup and she said...</td>\n",
       "      <td>depression</td>\n",
       "    </tr>\n",
       "    <tr>\n",
       "      <th>1</th>\n",
       "      <td>I do not know how to navigate these feelings, ...</td>\n",
       "      <td>depression</td>\n",
       "    </tr>\n",
       "    <tr>\n",
       "      <th>2</th>\n",
       "      <td>So I have been with my bf for 5 months , and h...</td>\n",
       "      <td>depression</td>\n",
       "    </tr>\n",
       "    <tr>\n",
       "      <th>3</th>\n",
       "      <td>I am so exhausted of this. Just when I think I...</td>\n",
       "      <td>SuicideWatch</td>\n",
       "    </tr>\n",
       "    <tr>\n",
       "      <th>4</th>\n",
       "      <td>I have been severly bullied since i was 5 till...</td>\n",
       "      <td>depression</td>\n",
       "    </tr>\n",
       "  </tbody>\n",
       "</table>\n",
       "</div>"
      ],
      "text/plain": [
       "                                                text         label\n",
       "0  I recently went through a breakup and she said...    depression\n",
       "1  I do not know how to navigate these feelings, ...    depression\n",
       "2  So I have been with my bf for 5 months , and h...    depression\n",
       "3  I am so exhausted of this. Just when I think I...  SuicideWatch\n",
       "4  I have been severly bullied since i was 5 till...    depression"
      ]
     },
     "execution_count": 2,
     "metadata": {},
     "output_type": "execute_result"
    }
   ],
   "source": [
    "#reading the data\n",
    "data = pd.read_csv(\"reddit.csv\",encoding=\"ISO-8859-1\")\n",
    "data.head()"
   ]
  },
  {
   "cell_type": "code",
   "execution_count": 3,
   "id": "2bbb21c1",
   "metadata": {},
   "outputs": [],
   "source": [
    "def get_first_50_words(temp):\n",
    "    result = temp.split()[:50]\n",
    "    return \" \".join(result)\n",
    "#     return result\n",
    "data['text_50'] = data['text'].apply(lambda x:get_first_50_words(x))"
   ]
  },
  {
   "cell_type": "code",
   "execution_count": 4,
   "id": "2ad1cbd1",
   "metadata": {},
   "outputs": [],
   "source": [
    "# # Only Load data with length of 50 or less\n",
    "# data = data[data['text'].str.split().str.len().lt(50)]\n",
    "# data.head()"
   ]
  },
  {
   "cell_type": "code",
   "execution_count": 5,
   "id": "c8f2887a",
   "metadata": {},
   "outputs": [
    {
     "data": {
      "text/plain": [
       "depression      10371\n",
       "SuicideWatch     9992\n",
       "Name: label, dtype: int64"
      ]
     },
     "execution_count": 5,
     "metadata": {},
     "output_type": "execute_result"
    }
   ],
   "source": [
    "#checking the count of the dependent variable\n",
    "data['label'].value_counts()"
   ]
  },
  {
   "cell_type": "markdown",
   "id": "79f5c36d",
   "metadata": {},
   "source": [
    "## Remove Punctuation"
   ]
  },
  {
   "cell_type": "code",
   "execution_count": 6,
   "id": "65b601fa",
   "metadata": {},
   "outputs": [
    {
     "data": {
      "text/plain": [
       "'!\"#$%&\\'()*+,-./:;<=>?@[\\\\]^_`{|}~'"
      ]
     },
     "execution_count": 6,
     "metadata": {},
     "output_type": "execute_result"
    }
   ],
   "source": [
    "#library that contains punctuation\n",
    "import string\n",
    "string.punctuation"
   ]
  },
  {
   "cell_type": "code",
   "execution_count": 7,
   "id": "972133ad",
   "metadata": {},
   "outputs": [
    {
     "data": {
      "text/html": [
       "<div>\n",
       "<style scoped>\n",
       "    .dataframe tbody tr th:only-of-type {\n",
       "        vertical-align: middle;\n",
       "    }\n",
       "\n",
       "    .dataframe tbody tr th {\n",
       "        vertical-align: top;\n",
       "    }\n",
       "\n",
       "    .dataframe thead th {\n",
       "        text-align: right;\n",
       "    }\n",
       "</style>\n",
       "<table border=\"1\" class=\"dataframe\">\n",
       "  <thead>\n",
       "    <tr style=\"text-align: right;\">\n",
       "      <th></th>\n",
       "      <th>text</th>\n",
       "      <th>label</th>\n",
       "      <th>text_50</th>\n",
       "      <th>clean_msg</th>\n",
       "    </tr>\n",
       "  </thead>\n",
       "  <tbody>\n",
       "    <tr>\n",
       "      <th>0</th>\n",
       "      <td>I recently went through a breakup and she said...</td>\n",
       "      <td>depression</td>\n",
       "      <td>I recently went through a breakup and she said...</td>\n",
       "      <td>I recently went through a breakup and she said...</td>\n",
       "    </tr>\n",
       "    <tr>\n",
       "      <th>1</th>\n",
       "      <td>I do not know how to navigate these feelings, ...</td>\n",
       "      <td>depression</td>\n",
       "      <td>I do not know how to navigate these feelings, ...</td>\n",
       "      <td>I do not know how to navigate these feelings n...</td>\n",
       "    </tr>\n",
       "    <tr>\n",
       "      <th>2</th>\n",
       "      <td>So I have been with my bf for 5 months , and h...</td>\n",
       "      <td>depression</td>\n",
       "      <td>So I have been with my bf for 5 months , and h...</td>\n",
       "      <td>So I have been with my bf for 5 months  and he...</td>\n",
       "    </tr>\n",
       "    <tr>\n",
       "      <th>3</th>\n",
       "      <td>I am so exhausted of this. Just when I think I...</td>\n",
       "      <td>SuicideWatch</td>\n",
       "      <td>I am so exhausted of this. Just when I think I...</td>\n",
       "      <td>I am so exhausted of this Just when I think I ...</td>\n",
       "    </tr>\n",
       "    <tr>\n",
       "      <th>4</th>\n",
       "      <td>I have been severly bullied since i was 5 till...</td>\n",
       "      <td>depression</td>\n",
       "      <td>I have been severly bullied since i was 5 till...</td>\n",
       "      <td>I have been severly bullied since i was 5 till...</td>\n",
       "    </tr>\n",
       "  </tbody>\n",
       "</table>\n",
       "</div>"
      ],
      "text/plain": [
       "                                                text         label  \\\n",
       "0  I recently went through a breakup and she said...    depression   \n",
       "1  I do not know how to navigate these feelings, ...    depression   \n",
       "2  So I have been with my bf for 5 months , and h...    depression   \n",
       "3  I am so exhausted of this. Just when I think I...  SuicideWatch   \n",
       "4  I have been severly bullied since i was 5 till...    depression   \n",
       "\n",
       "                                             text_50  \\\n",
       "0  I recently went through a breakup and she said...   \n",
       "1  I do not know how to navigate these feelings, ...   \n",
       "2  So I have been with my bf for 5 months , and h...   \n",
       "3  I am so exhausted of this. Just when I think I...   \n",
       "4  I have been severly bullied since i was 5 till...   \n",
       "\n",
       "                                           clean_msg  \n",
       "0  I recently went through a breakup and she said...  \n",
       "1  I do not know how to navigate these feelings n...  \n",
       "2  So I have been with my bf for 5 months  and he...  \n",
       "3  I am so exhausted of this Just when I think I ...  \n",
       "4  I have been severly bullied since i was 5 till...  "
      ]
     },
     "execution_count": 7,
     "metadata": {},
     "output_type": "execute_result"
    }
   ],
   "source": [
    "#defining the function to remove punctuation\n",
    "def remove_punctuation(text):\n",
    "    punctuationfree=\"\".join([i for i in text if i not in string.punctuation])\n",
    "    return punctuationfree\n",
    "#storing the puntuation free text\n",
    "data['clean_msg']= data['text_50'].apply(lambda x:remove_punctuation(x))\n",
    "data.head()"
   ]
  },
  {
   "cell_type": "markdown",
   "id": "13350612",
   "metadata": {},
   "source": [
    "## Lower"
   ]
  },
  {
   "cell_type": "code",
   "execution_count": 8,
   "id": "f74d4e13",
   "metadata": {},
   "outputs": [
    {
     "data": {
      "text/html": [
       "<div>\n",
       "<style scoped>\n",
       "    .dataframe tbody tr th:only-of-type {\n",
       "        vertical-align: middle;\n",
       "    }\n",
       "\n",
       "    .dataframe tbody tr th {\n",
       "        vertical-align: top;\n",
       "    }\n",
       "\n",
       "    .dataframe thead th {\n",
       "        text-align: right;\n",
       "    }\n",
       "</style>\n",
       "<table border=\"1\" class=\"dataframe\">\n",
       "  <thead>\n",
       "    <tr style=\"text-align: right;\">\n",
       "      <th></th>\n",
       "      <th>text</th>\n",
       "      <th>label</th>\n",
       "      <th>text_50</th>\n",
       "      <th>clean_msg</th>\n",
       "      <th>msg_lower</th>\n",
       "    </tr>\n",
       "  </thead>\n",
       "  <tbody>\n",
       "    <tr>\n",
       "      <th>0</th>\n",
       "      <td>I recently went through a breakup and she said...</td>\n",
       "      <td>depression</td>\n",
       "      <td>I recently went through a breakup and she said...</td>\n",
       "      <td>I recently went through a breakup and she said...</td>\n",
       "      <td>i recently went through a breakup and she said...</td>\n",
       "    </tr>\n",
       "    <tr>\n",
       "      <th>1</th>\n",
       "      <td>I do not know how to navigate these feelings, ...</td>\n",
       "      <td>depression</td>\n",
       "      <td>I do not know how to navigate these feelings, ...</td>\n",
       "      <td>I do not know how to navigate these feelings n...</td>\n",
       "      <td>i do not know how to navigate these feelings n...</td>\n",
       "    </tr>\n",
       "    <tr>\n",
       "      <th>2</th>\n",
       "      <td>So I have been with my bf for 5 months , and h...</td>\n",
       "      <td>depression</td>\n",
       "      <td>So I have been with my bf for 5 months , and h...</td>\n",
       "      <td>So I have been with my bf for 5 months  and he...</td>\n",
       "      <td>so i have been with my bf for 5 months  and he...</td>\n",
       "    </tr>\n",
       "    <tr>\n",
       "      <th>3</th>\n",
       "      <td>I am so exhausted of this. Just when I think I...</td>\n",
       "      <td>SuicideWatch</td>\n",
       "      <td>I am so exhausted of this. Just when I think I...</td>\n",
       "      <td>I am so exhausted of this Just when I think I ...</td>\n",
       "      <td>i am so exhausted of this just when i think i ...</td>\n",
       "    </tr>\n",
       "    <tr>\n",
       "      <th>4</th>\n",
       "      <td>I have been severly bullied since i was 5 till...</td>\n",
       "      <td>depression</td>\n",
       "      <td>I have been severly bullied since i was 5 till...</td>\n",
       "      <td>I have been severly bullied since i was 5 till...</td>\n",
       "      <td>i have been severly bullied since i was 5 till...</td>\n",
       "    </tr>\n",
       "  </tbody>\n",
       "</table>\n",
       "</div>"
      ],
      "text/plain": [
       "                                                text         label  \\\n",
       "0  I recently went through a breakup and she said...    depression   \n",
       "1  I do not know how to navigate these feelings, ...    depression   \n",
       "2  So I have been with my bf for 5 months , and h...    depression   \n",
       "3  I am so exhausted of this. Just when I think I...  SuicideWatch   \n",
       "4  I have been severly bullied since i was 5 till...    depression   \n",
       "\n",
       "                                             text_50  \\\n",
       "0  I recently went through a breakup and she said...   \n",
       "1  I do not know how to navigate these feelings, ...   \n",
       "2  So I have been with my bf for 5 months , and h...   \n",
       "3  I am so exhausted of this. Just when I think I...   \n",
       "4  I have been severly bullied since i was 5 till...   \n",
       "\n",
       "                                           clean_msg  \\\n",
       "0  I recently went through a breakup and she said...   \n",
       "1  I do not know how to navigate these feelings n...   \n",
       "2  So I have been with my bf for 5 months  and he...   \n",
       "3  I am so exhausted of this Just when I think I ...   \n",
       "4  I have been severly bullied since i was 5 till...   \n",
       "\n",
       "                                           msg_lower  \n",
       "0  i recently went through a breakup and she said...  \n",
       "1  i do not know how to navigate these feelings n...  \n",
       "2  so i have been with my bf for 5 months  and he...  \n",
       "3  i am so exhausted of this just when i think i ...  \n",
       "4  i have been severly bullied since i was 5 till...  "
      ]
     },
     "execution_count": 8,
     "metadata": {},
     "output_type": "execute_result"
    }
   ],
   "source": [
    "data['msg_lower']= data['clean_msg'].apply(lambda x: x.lower())\n",
    "data.head()"
   ]
  },
  {
   "cell_type": "markdown",
   "id": "ab72481d",
   "metadata": {},
   "source": [
    "## Tokenization"
   ]
  },
  {
   "cell_type": "code",
   "execution_count": 9,
   "id": "c9cb1129",
   "metadata": {},
   "outputs": [
    {
     "data": {
      "text/plain": [
       "['knowing',\n",
       " 'how',\n",
       " 'long',\n",
       " 'i',\n",
       " 'have',\n",
       " 'had',\n",
       " 'to',\n",
       " 'live',\n",
       " 'with',\n",
       " 'people',\n",
       " 'feeling',\n",
       " 'that',\n",
       " 'i',\n",
       " 'just',\n",
       " 'do',\n",
       " 'not',\n",
       " 'have',\n",
       " 'an',\n",
       " 'attractive',\n",
       " 'face',\n",
       " 'trying',\n",
       " 'to',\n",
       " 'discuss',\n",
       " 'this',\n",
       " 'with',\n",
       " 'therapist',\n",
       " 'made',\n",
       " 'it',\n",
       " 'at',\n",
       " 'times',\n",
       " 'damn',\n",
       " 'near',\n",
       " 'impossible',\n",
       " 'to',\n",
       " 'talk',\n",
       " 'i',\n",
       " 'am',\n",
       " 'a',\n",
       " '23',\n",
       " 'year',\n",
       " 'old',\n",
       " 'guy',\n",
       " 'discussing',\n",
       " 'looks',\n",
       " 'and',\n",
       " 'attractiveness',\n",
       " 'in',\n",
       " 'therapy',\n",
       " 'would',\n",
       " 'always']"
      ]
     },
     "execution_count": 9,
     "metadata": {},
     "output_type": "execute_result"
    }
   ],
   "source": [
    "#defining function for tokenization\n",
    "import re\n",
    "from nltk.tokenize import word_tokenize\n",
    "def tokenization(text):\n",
    "    #tokens = re.split('W+',text)\n",
    "    tokens = word_tokenize(text)\n",
    "    return tokens\n",
    "#applying function to the column\n",
    "data['msg_tokenied']= data['msg_lower'].apply(lambda x: tokenization(x))\n",
    "#data['msg_tokenied'] = word_tokenize(data['msg_lower'])\n",
    "data['msg_tokenied'][1241]"
   ]
  },
  {
   "cell_type": "markdown",
   "id": "e271e08c",
   "metadata": {},
   "source": [
    "## Removing Stop Words"
   ]
  },
  {
   "cell_type": "code",
   "execution_count": 10,
   "id": "24e5f05e",
   "metadata": {},
   "outputs": [
    {
     "data": {
      "text/plain": [
       "['i', 'me', 'my', 'myself', 'we', 'our', 'ours', 'ourselves', 'you', \"you're\"]"
      ]
     },
     "execution_count": 10,
     "metadata": {},
     "output_type": "execute_result"
    }
   ],
   "source": [
    "#Stop words present in the library\n",
    "stopwords = nltk.corpus.stopwords.words('english')\n",
    "stopwords[0:10]\n",
    "['i', 'me', 'my', 'myself', 'we', 'our', 'ours', 'ourselves', 'you', \"you're\"]"
   ]
  },
  {
   "cell_type": "code",
   "execution_count": 11,
   "id": "152a9cbf",
   "metadata": {},
   "outputs": [],
   "source": [
    "#defining the function to remove stopwords from tokenized text\n",
    "def remove_stopwords(text):\n",
    "    output= [i for i in text if i not in stopwords]\n",
    "    return output"
   ]
  },
  {
   "cell_type": "code",
   "execution_count": 12,
   "id": "e258d6bf",
   "metadata": {},
   "outputs": [],
   "source": [
    "#applying the function\n",
    "data['no_stopwords']= data['msg_tokenied'].apply(lambda x:remove_stopwords(x))"
   ]
  },
  {
   "cell_type": "markdown",
   "id": "a38ae334",
   "metadata": {},
   "source": [
    "## Stemming"
   ]
  },
  {
   "cell_type": "code",
   "execution_count": 13,
   "id": "9041f917",
   "metadata": {},
   "outputs": [],
   "source": [
    "#importing the Stemming function from nltk library\n",
    "from nltk.stem.porter import PorterStemmer\n",
    "#defining the object for stemming\n",
    "porter_stemmer = PorterStemmer()"
   ]
  },
  {
   "cell_type": "code",
   "execution_count": 14,
   "id": "08faac5f",
   "metadata": {},
   "outputs": [],
   "source": [
    "#defining a function for stemming\n",
    "def stemming(text):\n",
    "    stem_text = [porter_stemmer.stem(word) for word in text]\n",
    "    return stem_text\n",
    "data['msg_stemmed']=data['no_stopwords'].apply(lambda x: stemming(x))"
   ]
  },
  {
   "cell_type": "markdown",
   "id": "134c25c6",
   "metadata": {},
   "source": [
    "## Lemmatization"
   ]
  },
  {
   "cell_type": "code",
   "execution_count": 15,
   "id": "cebbf81f",
   "metadata": {},
   "outputs": [],
   "source": [
    "from nltk.stem import WordNetLemmatizer\n",
    "#defining the object for Lemmatization\n",
    "wordnet_lemmatizer = WordNetLemmatizer()"
   ]
  },
  {
   "cell_type": "code",
   "execution_count": 16,
   "id": "1c20f230",
   "metadata": {},
   "outputs": [],
   "source": [
    "#defining the function for lemmatization\n",
    "def lemmatizer(text):\n",
    "    lemm_text = [wordnet_lemmatizer.lemmatize(word) for word in text]\n",
    "    return lemm_text\n",
    "data['msg_lemmatized']=data['no_stopwords'].apply(lambda x:lemmatizer(x))"
   ]
  },
  {
   "cell_type": "code",
   "execution_count": 17,
   "id": "35c660b2",
   "metadata": {
    "scrolled": true
   },
   "outputs": [
    {
     "data": {
      "text/plain": [
       "['recently',\n",
       " 'went',\n",
       " 'breakup',\n",
       " 'said',\n",
       " 'still',\n",
       " 'want',\n",
       " 'friend',\n",
       " 'said',\n",
       " 'try',\n",
       " 'talk',\n",
       " 'thing',\n",
       " 'always',\n",
       " 'hurt',\n",
       " 'want',\n",
       " 'lose',\n",
       " 'feeling',\n",
       " 'pain',\n",
       " 'stop',\n",
       " 'hurt',\n",
       " 'much']"
      ]
     },
     "execution_count": 17,
     "metadata": {},
     "output_type": "execute_result"
    }
   ],
   "source": [
    "data['msg_lemmatized'][0]"
   ]
  },
  {
   "cell_type": "code",
   "execution_count": 18,
   "id": "5925168d",
   "metadata": {},
   "outputs": [
    {
     "name": "stderr",
     "output_type": "stream",
     "text": [
      "C:\\Users\\abedk\\AppData\\Local\\Temp/ipykernel_39908/4229997667.py:1: FutureWarning: In a future version of pandas all arguments of DataFrame.drop except for the argument 'labels' will be keyword-only\n",
      "  data.drop(data.columns.difference(['msg_lemmatized','label']), 1, inplace=True)\n"
     ]
    }
   ],
   "source": [
    "data.drop(data.columns.difference(['msg_lemmatized','label']), 1, inplace=True)"
   ]
  },
  {
   "cell_type": "code",
   "execution_count": 21,
   "id": "9f3fe097",
   "metadata": {},
   "outputs": [],
   "source": [
    "data.to_csv('reddit_preprocessed.csv', index=False)"
   ]
  }
 ],
 "metadata": {
  "kernelspec": {
   "display_name": "Python 3 (ipykernel)",
   "language": "python",
   "name": "python3"
  },
  "language_info": {
   "codemirror_mode": {
    "name": "ipython",
    "version": 3
   },
   "file_extension": ".py",
   "mimetype": "text/x-python",
   "name": "python",
   "nbconvert_exporter": "python",
   "pygments_lexer": "ipython3",
   "version": "3.9.7"
  }
 },
 "nbformat": 4,
 "nbformat_minor": 5
}
