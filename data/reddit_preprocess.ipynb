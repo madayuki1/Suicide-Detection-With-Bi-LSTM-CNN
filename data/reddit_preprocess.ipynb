{
 "cells": [
  {
   "cell_type": "code",
   "execution_count": 1,
   "id": "b96da25c",
   "metadata": {},
   "outputs": [
    {
     "name": "stderr",
     "output_type": "stream",
     "text": [
      "[nltk_data] Downloading package stopwords to\n",
      "[nltk_data]     C:\\Users\\abedk\\AppData\\Roaming\\nltk_data...\n",
      "[nltk_data]   Package stopwords is already up-to-date!\n",
      "[nltk_data] Downloading package wordnet to\n",
      "[nltk_data]     C:\\Users\\abedk\\AppData\\Roaming\\nltk_data...\n",
      "[nltk_data]   Package wordnet is already up-to-date!\n"
     ]
    },
    {
     "data": {
      "text/plain": [
       "True"
      ]
     },
     "execution_count": 1,
     "metadata": {},
     "output_type": "execute_result"
    }
   ],
   "source": [
    "import pandas as pd\n",
    "# NLTK Lib\n",
    "import nltk\n",
    "nltk.download('stopwords')\n",
    "nltk.download('wordnet')"
   ]
  },
  {
   "cell_type": "code",
   "execution_count": 2,
   "id": "e9d34109",
   "metadata": {},
   "outputs": [
    {
     "data": {
      "text/html": [
       "<div>\n",
       "<style scoped>\n",
       "    .dataframe tbody tr th:only-of-type {\n",
       "        vertical-align: middle;\n",
       "    }\n",
       "\n",
       "    .dataframe tbody tr th {\n",
       "        vertical-align: top;\n",
       "    }\n",
       "\n",
       "    .dataframe thead th {\n",
       "        text-align: right;\n",
       "    }\n",
       "</style>\n",
       "<table border=\"1\" class=\"dataframe\">\n",
       "  <thead>\n",
       "    <tr style=\"text-align: right;\">\n",
       "      <th></th>\n",
       "      <th>text</th>\n",
       "      <th>label</th>\n",
       "    </tr>\n",
       "  </thead>\n",
       "  <tbody>\n",
       "    <tr>\n",
       "      <th>0</th>\n",
       "      <td>I recently went through a breakup and she said...</td>\n",
       "      <td>depression</td>\n",
       "    </tr>\n",
       "    <tr>\n",
       "      <th>1</th>\n",
       "      <td>I do not know how to navigate these feelings, ...</td>\n",
       "      <td>depression</td>\n",
       "    </tr>\n",
       "    <tr>\n",
       "      <th>2</th>\n",
       "      <td>So I have been with my bf for 5 months , and h...</td>\n",
       "      <td>depression</td>\n",
       "    </tr>\n",
       "    <tr>\n",
       "      <th>3</th>\n",
       "      <td>I am so exhausted of this. Just when I think I...</td>\n",
       "      <td>SuicideWatch</td>\n",
       "    </tr>\n",
       "    <tr>\n",
       "      <th>4</th>\n",
       "      <td>I have been severly bullied since i was 5 till...</td>\n",
       "      <td>depression</td>\n",
       "    </tr>\n",
       "  </tbody>\n",
       "</table>\n",
       "</div>"
      ],
      "text/plain": [
       "                                                text         label\n",
       "0  I recently went through a breakup and she said...    depression\n",
       "1  I do not know how to navigate these feelings, ...    depression\n",
       "2  So I have been with my bf for 5 months , and h...    depression\n",
       "3  I am so exhausted of this. Just when I think I...  SuicideWatch\n",
       "4  I have been severly bullied since i was 5 till...    depression"
      ]
     },
     "execution_count": 2,
     "metadata": {},
     "output_type": "execute_result"
    }
   ],
   "source": [
    "#reading the data\n",
    "data = pd.read_csv(\"reddit.csv\",encoding=\"ISO-8859-1\")\n",
    "data.head()"
   ]
  },
  {
   "cell_type": "code",
   "execution_count": 3,
   "id": "c8f2887a",
   "metadata": {},
   "outputs": [
    {
     "data": {
      "text/plain": [
       "depression      10371\n",
       "SuicideWatch     9992\n",
       "Name: label, dtype: int64"
      ]
     },
     "execution_count": 3,
     "metadata": {},
     "output_type": "execute_result"
    }
   ],
   "source": [
    "#checking the count of the dependent variable\n",
    "data['label'].value_counts()"
   ]
  },
  {
   "cell_type": "markdown",
   "id": "5f18ca50",
   "metadata": {},
   "source": [
    "## Remove Punctuation"
   ]
  },
  {
   "cell_type": "code",
   "execution_count": 4,
   "id": "65b601fa",
   "metadata": {},
   "outputs": [
    {
     "data": {
      "text/plain": [
       "'!\"#$%&\\'()*+,-./:;<=>?@[\\\\]^_`{|}~'"
      ]
     },
     "execution_count": 4,
     "metadata": {},
     "output_type": "execute_result"
    }
   ],
   "source": [
    "#library that contains punctuation\n",
    "import string\n",
    "string.punctuation"
   ]
  },
  {
   "cell_type": "code",
   "execution_count": 5,
   "id": "972133ad",
   "metadata": {},
   "outputs": [
    {
     "data": {
      "text/html": [
       "<div>\n",
       "<style scoped>\n",
       "    .dataframe tbody tr th:only-of-type {\n",
       "        vertical-align: middle;\n",
       "    }\n",
       "\n",
       "    .dataframe tbody tr th {\n",
       "        vertical-align: top;\n",
       "    }\n",
       "\n",
       "    .dataframe thead th {\n",
       "        text-align: right;\n",
       "    }\n",
       "</style>\n",
       "<table border=\"1\" class=\"dataframe\">\n",
       "  <thead>\n",
       "    <tr style=\"text-align: right;\">\n",
       "      <th></th>\n",
       "      <th>text</th>\n",
       "      <th>label</th>\n",
       "      <th>clean_msg</th>\n",
       "    </tr>\n",
       "  </thead>\n",
       "  <tbody>\n",
       "    <tr>\n",
       "      <th>0</th>\n",
       "      <td>I recently went through a breakup and she said...</td>\n",
       "      <td>depression</td>\n",
       "      <td>I recently went through a breakup and she said...</td>\n",
       "    </tr>\n",
       "    <tr>\n",
       "      <th>1</th>\n",
       "      <td>I do not know how to navigate these feelings, ...</td>\n",
       "      <td>depression</td>\n",
       "      <td>I do not know how to navigate these feelings n...</td>\n",
       "    </tr>\n",
       "    <tr>\n",
       "      <th>2</th>\n",
       "      <td>So I have been with my bf for 5 months , and h...</td>\n",
       "      <td>depression</td>\n",
       "      <td>So I have been with my bf for 5 months  and he...</td>\n",
       "    </tr>\n",
       "    <tr>\n",
       "      <th>3</th>\n",
       "      <td>I am so exhausted of this. Just when I think I...</td>\n",
       "      <td>SuicideWatch</td>\n",
       "      <td>I am so exhausted of this Just when I think I ...</td>\n",
       "    </tr>\n",
       "    <tr>\n",
       "      <th>4</th>\n",
       "      <td>I have been severly bullied since i was 5 till...</td>\n",
       "      <td>depression</td>\n",
       "      <td>I have been severly bullied since i was 5 till...</td>\n",
       "    </tr>\n",
       "  </tbody>\n",
       "</table>\n",
       "</div>"
      ],
      "text/plain": [
       "                                                text         label  \\\n",
       "0  I recently went through a breakup and she said...    depression   \n",
       "1  I do not know how to navigate these feelings, ...    depression   \n",
       "2  So I have been with my bf for 5 months , and h...    depression   \n",
       "3  I am so exhausted of this. Just when I think I...  SuicideWatch   \n",
       "4  I have been severly bullied since i was 5 till...    depression   \n",
       "\n",
       "                                           clean_msg  \n",
       "0  I recently went through a breakup and she said...  \n",
       "1  I do not know how to navigate these feelings n...  \n",
       "2  So I have been with my bf for 5 months  and he...  \n",
       "3  I am so exhausted of this Just when I think I ...  \n",
       "4  I have been severly bullied since i was 5 till...  "
      ]
     },
     "execution_count": 5,
     "metadata": {},
     "output_type": "execute_result"
    }
   ],
   "source": [
    "#defining the function to remove punctuation\n",
    "def remove_punctuation(text):\n",
    "    punctuationfree=\"\".join([i for i in text if i not in string.punctuation])\n",
    "    return punctuationfree\n",
    "#storing the puntuation free text\n",
    "data['clean_msg']= data['text'].apply(lambda x:remove_punctuation(x))\n",
    "data.head()"
   ]
  },
  {
   "cell_type": "markdown",
   "id": "25ffefc2",
   "metadata": {},
   "source": [
    "## Lower"
   ]
  },
  {
   "cell_type": "code",
   "execution_count": 6,
   "id": "f74d4e13",
   "metadata": {},
   "outputs": [
    {
     "data": {
      "text/html": [
       "<div>\n",
       "<style scoped>\n",
       "    .dataframe tbody tr th:only-of-type {\n",
       "        vertical-align: middle;\n",
       "    }\n",
       "\n",
       "    .dataframe tbody tr th {\n",
       "        vertical-align: top;\n",
       "    }\n",
       "\n",
       "    .dataframe thead th {\n",
       "        text-align: right;\n",
       "    }\n",
       "</style>\n",
       "<table border=\"1\" class=\"dataframe\">\n",
       "  <thead>\n",
       "    <tr style=\"text-align: right;\">\n",
       "      <th></th>\n",
       "      <th>text</th>\n",
       "      <th>label</th>\n",
       "      <th>clean_msg</th>\n",
       "      <th>msg_lower</th>\n",
       "    </tr>\n",
       "  </thead>\n",
       "  <tbody>\n",
       "    <tr>\n",
       "      <th>0</th>\n",
       "      <td>I recently went through a breakup and she said...</td>\n",
       "      <td>depression</td>\n",
       "      <td>I recently went through a breakup and she said...</td>\n",
       "      <td>i recently went through a breakup and she said...</td>\n",
       "    </tr>\n",
       "    <tr>\n",
       "      <th>1</th>\n",
       "      <td>I do not know how to navigate these feelings, ...</td>\n",
       "      <td>depression</td>\n",
       "      <td>I do not know how to navigate these feelings n...</td>\n",
       "      <td>i do not know how to navigate these feelings n...</td>\n",
       "    </tr>\n",
       "    <tr>\n",
       "      <th>2</th>\n",
       "      <td>So I have been with my bf for 5 months , and h...</td>\n",
       "      <td>depression</td>\n",
       "      <td>So I have been with my bf for 5 months  and he...</td>\n",
       "      <td>so i have been with my bf for 5 months  and he...</td>\n",
       "    </tr>\n",
       "    <tr>\n",
       "      <th>3</th>\n",
       "      <td>I am so exhausted of this. Just when I think I...</td>\n",
       "      <td>SuicideWatch</td>\n",
       "      <td>I am so exhausted of this Just when I think I ...</td>\n",
       "      <td>i am so exhausted of this just when i think i ...</td>\n",
       "    </tr>\n",
       "    <tr>\n",
       "      <th>4</th>\n",
       "      <td>I have been severly bullied since i was 5 till...</td>\n",
       "      <td>depression</td>\n",
       "      <td>I have been severly bullied since i was 5 till...</td>\n",
       "      <td>i have been severly bullied since i was 5 till...</td>\n",
       "    </tr>\n",
       "  </tbody>\n",
       "</table>\n",
       "</div>"
      ],
      "text/plain": [
       "                                                text         label  \\\n",
       "0  I recently went through a breakup and she said...    depression   \n",
       "1  I do not know how to navigate these feelings, ...    depression   \n",
       "2  So I have been with my bf for 5 months , and h...    depression   \n",
       "3  I am so exhausted of this. Just when I think I...  SuicideWatch   \n",
       "4  I have been severly bullied since i was 5 till...    depression   \n",
       "\n",
       "                                           clean_msg  \\\n",
       "0  I recently went through a breakup and she said...   \n",
       "1  I do not know how to navigate these feelings n...   \n",
       "2  So I have been with my bf for 5 months  and he...   \n",
       "3  I am so exhausted of this Just when I think I ...   \n",
       "4  I have been severly bullied since i was 5 till...   \n",
       "\n",
       "                                           msg_lower  \n",
       "0  i recently went through a breakup and she said...  \n",
       "1  i do not know how to navigate these feelings n...  \n",
       "2  so i have been with my bf for 5 months  and he...  \n",
       "3  i am so exhausted of this just when i think i ...  \n",
       "4  i have been severly bullied since i was 5 till...  "
      ]
     },
     "execution_count": 6,
     "metadata": {},
     "output_type": "execute_result"
    }
   ],
   "source": [
    "data['msg_lower']= data['clean_msg'].apply(lambda x: x.lower())\n",
    "data.head()"
   ]
  },
  {
   "cell_type": "markdown",
   "id": "3c98e71f",
   "metadata": {},
   "source": [
    "## Tokenization"
   ]
  },
  {
   "cell_type": "code",
   "execution_count": 7,
   "id": "c9cb1129",
   "metadata": {},
   "outputs": [
    {
     "data": {
      "text/plain": [
       "['i recently went through a breakup and she said she still wants to be friends so i said i can try doing that but when she talks to me about things it always hurts i just want to lose feelings so all this pain can stop it hurts so much and i cannot even cry about it i do not want to hurt her because she said she does not want to never speak to me again but i do not know what to do here when we were together she always hurt me so i do not know why i still love her i wish we never met it would be much less painful how do i lose feelings']"
      ]
     },
     "execution_count": 7,
     "metadata": {},
     "output_type": "execute_result"
    }
   ],
   "source": [
    "#defining function for tokenization\n",
    "import re\n",
    "def tokenization(text):\n",
    "    tokens = re.split('W+',text)\n",
    "    return tokens\n",
    "#applying function to the column\n",
    "data['msg_tokenied']= data['msg_lower'].apply(lambda x: tokenization(x))\n",
    "data['msg_tokenied'][0]"
   ]
  },
  {
   "cell_type": "markdown",
   "id": "109f5413",
   "metadata": {},
   "source": [
    "## Removing Stop Words"
   ]
  },
  {
   "cell_type": "code",
   "execution_count": 8,
   "id": "24e5f05e",
   "metadata": {},
   "outputs": [
    {
     "data": {
      "text/plain": [
       "['i', 'me', 'my', 'myself', 'we', 'our', 'ours', 'ourselves', 'you', \"you're\"]"
      ]
     },
     "execution_count": 8,
     "metadata": {},
     "output_type": "execute_result"
    }
   ],
   "source": [
    "#Stop words present in the library\n",
    "stopwords = nltk.corpus.stopwords.words('english')\n",
    "stopwords[0:10]\n",
    "['i', 'me', 'my', 'myself', 'we', 'our', 'ours', 'ourselves', 'you', \"you're\"]"
   ]
  },
  {
   "cell_type": "code",
   "execution_count": 9,
   "id": "152a9cbf",
   "metadata": {},
   "outputs": [],
   "source": [
    "#defining the function to remove stopwords from tokenized text\n",
    "def remove_stopwords(text):\n",
    "    output= [i for i in text if i not in stopwords]\n",
    "    return output"
   ]
  },
  {
   "cell_type": "code",
   "execution_count": 10,
   "id": "ddb48c51",
   "metadata": {},
   "outputs": [],
   "source": [
    "#applying the function\n",
    "data['no_stopwords']= data['msg_tokenied'].apply(lambda x:remove_stopwords(x))"
   ]
  },
  {
   "cell_type": "markdown",
   "id": "d2a6eff3",
   "metadata": {},
   "source": [
    "## Stemming"
   ]
  },
  {
   "cell_type": "code",
   "execution_count": 11,
   "id": "e9b8cf73",
   "metadata": {},
   "outputs": [],
   "source": [
    "#importing the Stemming function from nltk library\n",
    "from nltk.stem.porter import PorterStemmer\n",
    "#defining the object for stemming\n",
    "porter_stemmer = PorterStemmer()"
   ]
  },
  {
   "cell_type": "code",
   "execution_count": 12,
   "id": "78011c99",
   "metadata": {},
   "outputs": [],
   "source": [
    "#defining a function for stemming\n",
    "def stemming(text):\n",
    "    stem_text = [porter_stemmer.stem(word) for word in text]\n",
    "    return stem_text\n",
    "data['msg_stemmed']=data['no_stopwords'].apply(lambda x: stemming(x))"
   ]
  },
  {
   "cell_type": "markdown",
   "id": "13e063af",
   "metadata": {},
   "source": [
    "## Lemmatization"
   ]
  },
  {
   "cell_type": "code",
   "execution_count": 13,
   "id": "d24103c3",
   "metadata": {},
   "outputs": [],
   "source": [
    "from nltk.stem import WordNetLemmatizer\n",
    "#defining the object for Lemmatization\n",
    "wordnet_lemmatizer = WordNetLemmatizer()"
   ]
  },
  {
   "cell_type": "code",
   "execution_count": 14,
   "id": "94f5ad6f",
   "metadata": {},
   "outputs": [],
   "source": [
    "#defining the function for lemmatization\n",
    "def lemmatizer(text):\n",
    "    lemm_text = [wordnet_lemmatizer.lemmatize(word) for word in text]\n",
    "    return lemm_text\n",
    "data['msg_lemmatized']=data['no_stopwords'].apply(lambda x:lemmatizer(x))"
   ]
  },
  {
   "cell_type": "code",
   "execution_count": 15,
   "id": "a4beb0a7",
   "metadata": {},
   "outputs": [
    {
     "data": {
      "text/plain": [
       "0        [i recently went through a breakup and she sai...\n",
       "1        [i do not know how to navigate these feelings ...\n",
       "2        [so i have been with my bf for 5 months  and h...\n",
       "3        [i am so exhausted of this just when i think i...\n",
       "4        [i have been severly bullied since i was 5 til...\n",
       "                               ...                        \n",
       "20358    [i took 50mg of seroquel a few hours after i d...\n",
       "20359    [that is what has happened to me last week and...\n",
       "20360    [ever just feel alone in a house full of peopl...\n",
       "20361    [politicians neighbors corporations society cu...\n",
       "20362    [i feel like i am just existing but for what i...\n",
       "Name: msg_lemmatized, Length: 20363, dtype: object"
      ]
     },
     "execution_count": 15,
     "metadata": {},
     "output_type": "execute_result"
    }
   ],
   "source": [
    "data['msg_lemmatized']"
   ]
  }
 ],
 "metadata": {
  "kernelspec": {
   "display_name": "Python 3 (ipykernel)",
   "language": "python",
   "name": "python3"
  },
  "language_info": {
   "codemirror_mode": {
    "name": "ipython",
    "version": 3
   },
   "file_extension": ".py",
   "mimetype": "text/x-python",
   "name": "python",
   "nbconvert_exporter": "python",
   "pygments_lexer": "ipython3",
   "version": "3.9.7"
  }
 },
 "nbformat": 4,
 "nbformat_minor": 5
}
